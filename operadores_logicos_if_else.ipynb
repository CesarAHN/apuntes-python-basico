{
  "nbformat": 4,
  "nbformat_minor": 0,
  "metadata": {
    "colab": {
      "provenance": [],
      "authorship_tag": "ABX9TyOvcwZQSNp/Zc8XvKzr9CiL",
      "include_colab_link": true
    },
    "kernelspec": {
      "name": "python3",
      "display_name": "Python 3"
    },
    "language_info": {
      "name": "python"
    }
  },
  "cells": [
    {
      "cell_type": "markdown",
      "metadata": {
        "id": "view-in-github",
        "colab_type": "text"
      },
      "source": [
        "<a href=\"https://colab.research.google.com/github/CesarAHN/apuntes-python-basico/blob/main/operadores_logicos_if_else.ipynb\" target=\"_parent\"><img src=\"https://colab.research.google.com/assets/colab-badge.svg\" alt=\"Open In Colab\"/></a>"
      ]
    },
    {
      "cell_type": "markdown",
      "source": [
        "# OPERADORES LÓGICOS E IF ELSE."
      ],
      "metadata": {
        "id": "AYlCURglGMxT"
      }
    },
    {
      "cell_type": "markdown",
      "source": [
        "## Booleano."
      ],
      "metadata": {
        "id": "rnBNR0kEGLOf"
      }
    },
    {
      "cell_type": "markdown",
      "source": [
        "En python si una expresión es cierta tomará el valor de `true` (1) y si es falsa el valor de `false` (0)."
      ],
      "metadata": {
        "id": "rxItIOe4HlmG"
      }
    },
    {
      "cell_type": "markdown",
      "source": [
        "Para ver ejemplos de los booleanos, se definen las expresiones booleanas."
      ],
      "metadata": {
        "id": "nmpIDlDOH1J7"
      }
    },
    {
      "cell_type": "markdown",
      "source": [
        "## Expresiones booleanas"
      ],
      "metadata": {
        "id": "DZnKQSjDH8qm"
      }
    },
    {
      "cell_type": "code",
      "source": [
        "1 == 1   # Operador de igualdad"
      ],
      "metadata": {
        "colab": {
          "base_uri": "https://localhost:8080/"
        },
        "id": "zZcfdlQqIDce",
        "outputId": "75d7b85a-8f72-4cc0-fccb-c62ecb49a905"
      },
      "execution_count": 4,
      "outputs": [
        {
          "output_type": "execute_result",
          "data": {
            "text/plain": [
              "True"
            ]
          },
          "metadata": {},
          "execution_count": 4
        }
      ]
    },
    {
      "cell_type": "code",
      "source": [
        "1 == 2"
      ],
      "metadata": {
        "colab": {
          "base_uri": "https://localhost:8080/"
        },
        "id": "nTgfYsKQIcqP",
        "outputId": "47e16500-d13c-479d-d2a9-3d42a263c215"
      },
      "execution_count": 5,
      "outputs": [
        {
          "output_type": "execute_result",
          "data": {
            "text/plain": [
              "False"
            ]
          },
          "metadata": {},
          "execution_count": 5
        }
      ]
    },
    {
      "cell_type": "code",
      "source": [
        "6 > 2   # Mayor que"
      ],
      "metadata": {
        "colab": {
          "base_uri": "https://localhost:8080/"
        },
        "id": "Uq2LwJ--InZG",
        "outputId": "369f1bd6-c591-484f-8c36-42db19e6b2cb"
      },
      "execution_count": 7,
      "outputs": [
        {
          "output_type": "execute_result",
          "data": {
            "text/plain": [
              "True"
            ]
          },
          "metadata": {},
          "execution_count": 7
        }
      ]
    },
    {
      "cell_type": "code",
      "source": [
        "2 < 6   # Menor que"
      ],
      "metadata": {
        "colab": {
          "base_uri": "https://localhost:8080/"
        },
        "id": "AkUXvKNGIsN2",
        "outputId": "69f6397d-55ed-4f23-e14a-fc0dd03a5b3b"
      },
      "execution_count": 6,
      "outputs": [
        {
          "output_type": "execute_result",
          "data": {
            "text/plain": [
              "True"
            ]
          },
          "metadata": {},
          "execution_count": 6
        }
      ]
    },
    {
      "cell_type": "code",
      "source": [
        "55 >= 12   # Mayor igual que"
      ],
      "metadata": {
        "colab": {
          "base_uri": "https://localhost:8080/"
        },
        "id": "yyxWeA2iJHE-",
        "outputId": "3a8970d3-0432-4c15-da31-037a63fcd337"
      },
      "execution_count": 8,
      "outputs": [
        {
          "output_type": "execute_result",
          "data": {
            "text/plain": [
              "True"
            ]
          },
          "metadata": {},
          "execution_count": 8
        }
      ]
    },
    {
      "cell_type": "code",
      "source": [
        "4 <= 100 # Menor igual que"
      ],
      "metadata": {
        "colab": {
          "base_uri": "https://localhost:8080/"
        },
        "id": "ZPBHlNDOJNZF",
        "outputId": "1d357964-6318-47bb-d7c6-7fad4be5e3c0"
      },
      "execution_count": 9,
      "outputs": [
        {
          "output_type": "execute_result",
          "data": {
            "text/plain": [
              "True"
            ]
          },
          "metadata": {},
          "execution_count": 9
        }
      ]
    },
    {
      "cell_type": "markdown",
      "source": [
        "## Operadores lógicos"
      ],
      "metadata": {
        "id": "vsl0JaMvJnkH"
      }
    },
    {
      "cell_type": "markdown",
      "source": [
        "En python hay 3 tipos de operadores lógicos: `and`, `or` y `not`."
      ],
      "metadata": {
        "id": "hT77J2Y6Jrge"
      }
    },
    {
      "cell_type": "code",
      "source": [
        "4 == 4 and 6 > 2    # El operador `and`, solo si las 2 expresiones son iguales el resultado será true"
      ],
      "metadata": {
        "colab": {
          "base_uri": "https://localhost:8080/"
        },
        "id": "CWWEoRggKN3_",
        "outputId": "18df388f-899b-4a74-c104-6ed04b27af14"
      },
      "execution_count": 10,
      "outputs": [
        {
          "output_type": "execute_result",
          "data": {
            "text/plain": [
              "True"
            ]
          },
          "metadata": {},
          "execution_count": 10
        }
      ]
    },
    {
      "cell_type": "code",
      "source": [
        "# Si unas de las expresiones es falso, entonces, el resulutado será falso.\n",
        "4 == 4 and 2 > 6"
      ],
      "metadata": {
        "colab": {
          "base_uri": "https://localhost:8080/"
        },
        "id": "twgIIDzdKi1G",
        "outputId": "70f18c1e-93fb-45bb-d606-c567db7fda27"
      },
      "execution_count": 12,
      "outputs": [
        {
          "output_type": "execute_result",
          "data": {
            "text/plain": [
              "False"
            ]
          },
          "metadata": {},
          "execution_count": 12
        }
      ]
    },
    {
      "cell_type": "markdown",
      "source": [
        "Esto sucede porque la segunda expresión es falsa."
      ],
      "metadata": {
        "id": "KXUV60qdKuRm"
      }
    },
    {
      "cell_type": "code",
      "source": [
        "# Con el operador or solo es necesario que una de las expresiones sea verdadera.\n",
        "4 == 4 or 5 > 10"
      ],
      "metadata": {
        "colab": {
          "base_uri": "https://localhost:8080/"
        },
        "id": "-Lxqak5HKpCf",
        "outputId": "975e2fc6-20e3-4be6-aaf0-53aa9fd4a510"
      },
      "execution_count": 13,
      "outputs": [
        {
          "output_type": "execute_result",
          "data": {
            "text/plain": [
              "True"
            ]
          },
          "metadata": {},
          "execution_count": 13
        }
      ]
    },
    {
      "cell_type": "markdown",
      "source": [
        "En efecto, solo era verdadera la primera expresión."
      ],
      "metadata": {
        "id": "c0FWbCdbLKKG"
      }
    },
    {
      "cell_type": "code",
      "source": [
        "not (3 == 3) # El operador not niega el resultado de la expresión"
      ],
      "metadata": {
        "colab": {
          "base_uri": "https://localhost:8080/"
        },
        "id": "rB7Y2074LUju",
        "outputId": "74706007-a707-4d14-9893-9fa66385644c"
      },
      "execution_count": 14,
      "outputs": [
        {
          "output_type": "execute_result",
          "data": {
            "text/plain": [
              "False"
            ]
          },
          "metadata": {},
          "execution_count": 14
        }
      ]
    },
    {
      "cell_type": "markdown",
      "source": [
        "En este caso la expresión `3 == 3` es verdadero, pero como está contenido con el operador `not` se niega y el resultado es False."
      ],
      "metadata": {
        "id": "FkA-SgwZLnIG"
      }
    },
    {
      "cell_type": "markdown",
      "source": [
        "# Condicional If - Else"
      ],
      "metadata": {
        "id": "lHPOI6CZMGE2"
      }
    },
    {
      "cell_type": "markdown",
      "source": [
        "La condicional `if` tiene la siguiente estructura:\n",
        "\n",
        "`if Condicional:`  \n",
        "  `Sentencia 1`  \n",
        "  `...`  \n",
        "  `Sentencia 2`\n",
        "\n",
        "  A continuación, se muestra un ejemplo."
      ],
      "metadata": {
        "id": "Pf61xUhlMM5-"
      }
    },
    {
      "cell_type": "code",
      "source": [
        "if 4 > 2:\n",
        "  print(\"Verdadero\")"
      ],
      "metadata": {
        "colab": {
          "base_uri": "https://localhost:8080/"
        },
        "id": "QWLFBCwoNjVF",
        "outputId": "cd6c9ee3-31ee-4b2a-b9f9-0fc97364cd99"
      },
      "execution_count": 15,
      "outputs": [
        {
          "output_type": "stream",
          "name": "stdout",
          "text": [
            "Verdadero\n"
          ]
        }
      ]
    },
    {
      "cell_type": "markdown",
      "source": [
        "Se ha impreso la palabra verdadero, ya que la condición lógica era cierta, si la condición hubiese sido lo contrario, no se hubiese ejecutado la sentencia de imprimir."
      ],
      "metadata": {
        "id": "N9Pbz6QTORKX"
      }
    }
  ]
}