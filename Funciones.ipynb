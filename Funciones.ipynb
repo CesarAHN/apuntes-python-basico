{
  "nbformat": 4,
  "nbformat_minor": 0,
  "metadata": {
    "colab": {
      "provenance": [],
      "authorship_tag": "ABX9TyOJpt2RbNzNU94BfaNj0Cjy",
      "include_colab_link": true
    },
    "kernelspec": {
      "name": "python3",
      "display_name": "Python 3"
    },
    "language_info": {
      "name": "python"
    }
  },
  "cells": [
    {
      "cell_type": "markdown",
      "metadata": {
        "id": "view-in-github",
        "colab_type": "text"
      },
      "source": [
        "<a href=\"https://colab.research.google.com/github/CesarAHN/clases-python-basico/blob/main/Funciones.ipynb\" target=\"_parent\"><img src=\"https://colab.research.google.com/assets/colab-badge.svg\" alt=\"Open In Colab\"/></a>"
      ]
    },
    {
      "cell_type": "markdown",
      "source": [
        "# FUNCIONES."
      ],
      "metadata": {
        "id": "uO_Dym489I64"
      }
    },
    {
      "cell_type": "markdown",
      "source": [
        "## FUNCIONES MATEMÁTICAS"
      ],
      "metadata": {
        "id": "KnbFBFsNmpna"
      }
    },
    {
      "cell_type": "markdown",
      "source": [
        "Para llanar a las funciones matemáticas se tiene que importar una librería, en este caso la librería se llama \"math\""
      ],
      "metadata": {
        "id": "OwHJWPhu9MeP"
      }
    },
    {
      "cell_type": "code",
      "source": [
        "import math"
      ],
      "metadata": {
        "id": "F3iJvPsNdMEK"
      },
      "execution_count": 1,
      "outputs": []
    },
    {
      "cell_type": "markdown",
      "source": [
        "A continuación algunas funciones matemáticas:\n",
        "* Combinatoria.\n",
        "* Valor absoluto.\n",
        "* Factorial.\n",
        "* Permutación.\n",
        "* Exponencial.\n",
        "* Logarírtmo natural.\n",
        "* Logarítmo en base 10.\n",
        "* Raíz cuadrada.\n",
        "* Coseno, seno y tangente.\n",
        "* Arco coseno, seno y tangente.\n",
        "* Número de Euler.\n",
        "* Número pi.\n"
      ],
      "metadata": {
        "id": "2HGjeG_LdbYZ"
      }
    },
    {
      "cell_type": "code",
      "source": [
        "math.comb(4,2)  # Combinatoria."
      ],
      "metadata": {
        "colab": {
          "base_uri": "https://localhost:8080/"
        },
        "id": "01P1AM4LgF6q",
        "outputId": "65b434a8-574f-4d59-9045-bbf54f6b5c75"
      },
      "execution_count": 35,
      "outputs": [
        {
          "output_type": "execute_result",
          "data": {
            "text/plain": [
              "6"
            ]
          },
          "metadata": {},
          "execution_count": 35
        }
      ]
    },
    {
      "cell_type": "code",
      "source": [
        "math.fabs(-4)  # Valor absoluto."
      ],
      "metadata": {
        "colab": {
          "base_uri": "https://localhost:8080/"
        },
        "id": "P7GJ3nBvgWza",
        "outputId": "dcfc517b-b804-4272-9700-9234070edf09"
      },
      "execution_count": 3,
      "outputs": [
        {
          "output_type": "execute_result",
          "data": {
            "text/plain": [
              "4.0"
            ]
          },
          "metadata": {},
          "execution_count": 3
        }
      ]
    },
    {
      "cell_type": "code",
      "source": [
        "math.factorial(5)  # Factorial."
      ],
      "metadata": {
        "colab": {
          "base_uri": "https://localhost:8080/"
        },
        "id": "ZJuYMpwVgdyK",
        "outputId": "7007f555-a731-4c97-e955-b1c5f59088dc"
      },
      "execution_count": 4,
      "outputs": [
        {
          "output_type": "execute_result",
          "data": {
            "text/plain": [
              "120"
            ]
          },
          "metadata": {},
          "execution_count": 4
        }
      ]
    },
    {
      "cell_type": "code",
      "source": [
        "math.perm(4)  # Permutación."
      ],
      "metadata": {
        "colab": {
          "base_uri": "https://localhost:8080/"
        },
        "id": "cJEOKa62gjS6",
        "outputId": "7ae10a28-099f-463a-92f0-801727453377"
      },
      "execution_count": 34,
      "outputs": [
        {
          "output_type": "execute_result",
          "data": {
            "text/plain": [
              "24"
            ]
          },
          "metadata": {},
          "execution_count": 34
        }
      ]
    },
    {
      "cell_type": "code",
      "source": [
        "math.exp(0)   # Exponencial"
      ],
      "metadata": {
        "colab": {
          "base_uri": "https://localhost:8080/"
        },
        "id": "0mh-V7Cwg4ti",
        "outputId": "2babc962-b3ba-4aab-88da-6a6539b2d2b6"
      },
      "execution_count": 6,
      "outputs": [
        {
          "output_type": "execute_result",
          "data": {
            "text/plain": [
              "1.0"
            ]
          },
          "metadata": {},
          "execution_count": 6
        }
      ]
    },
    {
      "cell_type": "code",
      "source": [
        "math.log(1)   # Logaritmo natural."
      ],
      "metadata": {
        "colab": {
          "base_uri": "https://localhost:8080/"
        },
        "id": "9ZFf2i54hBay",
        "outputId": "bd954f7e-4070-4cc4-f1d5-08267349b8d7"
      },
      "execution_count": 33,
      "outputs": [
        {
          "output_type": "execute_result",
          "data": {
            "text/plain": [
              "0.0"
            ]
          },
          "metadata": {},
          "execution_count": 33
        }
      ]
    },
    {
      "cell_type": "code",
      "source": [
        "math.log10(100)  # Logaritmo en base 10"
      ],
      "metadata": {
        "colab": {
          "base_uri": "https://localhost:8080/"
        },
        "id": "USWuIv-vhMgI",
        "outputId": "c87e8c06-f77a-41f8-c8d2-cd1b81f5625a"
      },
      "execution_count": 9,
      "outputs": [
        {
          "output_type": "execute_result",
          "data": {
            "text/plain": [
              "2.0"
            ]
          },
          "metadata": {},
          "execution_count": 9
        }
      ]
    },
    {
      "cell_type": "code",
      "source": [
        "math.sqrt(36)  # Raíz cuadrada"
      ],
      "metadata": {
        "colab": {
          "base_uri": "https://localhost:8080/"
        },
        "id": "36pPXngCherx",
        "outputId": "71795646-d138-4c75-c486-eef7c05d1253"
      },
      "execution_count": 10,
      "outputs": [
        {
          "output_type": "execute_result",
          "data": {
            "text/plain": [
              "6.0"
            ]
          },
          "metadata": {},
          "execution_count": 10
        }
      ]
    },
    {
      "cell_type": "code",
      "source": [
        "math.pi   # Número pi"
      ],
      "metadata": {
        "colab": {
          "base_uri": "https://localhost:8080/"
        },
        "id": "9q-iC25wjJeq",
        "outputId": "db36e9b6-f5f8-412c-bbed-05228ca2fe57"
      },
      "execution_count": 16,
      "outputs": [
        {
          "output_type": "execute_result",
          "data": {
            "text/plain": [
              "3.141592653589793"
            ]
          },
          "metadata": {},
          "execution_count": 16
        }
      ]
    },
    {
      "cell_type": "code",
      "source": [
        "math.cos(math.pi/4)   # El ángulo debe de estar especificado en pi radianes. En este caso esta bien definifo y hace referencia a 45° sexagesimales."
      ],
      "metadata": {
        "colab": {
          "base_uri": "https://localhost:8080/"
        },
        "id": "amDg8d_ahpt5",
        "outputId": "84a3edab-51a2-483e-a4f3-61dc90d43cbf"
      },
      "execution_count": 25,
      "outputs": [
        {
          "output_type": "execute_result",
          "data": {
            "text/plain": [
              "0.7071067811865476"
            ]
          },
          "metadata": {},
          "execution_count": 25
        }
      ]
    },
    {
      "cell_type": "code",
      "source": [
        "math.sin(math.pi/4)  # El seno debe de ser igual al coseno, si se trata de un ángulo de 45° sexagesimales."
      ],
      "metadata": {
        "colab": {
          "base_uri": "https://localhost:8080/"
        },
        "id": "BeHeXFKtjlYJ",
        "outputId": "0811c9b2-ad85-49e9-fe89-10e07a016887"
      },
      "execution_count": 26,
      "outputs": [
        {
          "output_type": "execute_result",
          "data": {
            "text/plain": [
              "0.7071067811865475"
            ]
          },
          "metadata": {},
          "execution_count": 26
        }
      ]
    },
    {
      "cell_type": "code",
      "source": [
        "math.tan(math.pi/4)   # Como es obvio debería de salir 1, si se trata de 45° sexagesimales."
      ],
      "metadata": {
        "colab": {
          "base_uri": "https://localhost:8080/"
        },
        "id": "PjPhh_o2j06Z",
        "outputId": "69c4f9b9-c6d9-410d-9c5d-a140490dd778"
      },
      "execution_count": 29,
      "outputs": [
        {
          "output_type": "execute_result",
          "data": {
            "text/plain": [
              "0.9999999999999999"
            ]
          },
          "metadata": {},
          "execution_count": 29
        }
      ]
    },
    {
      "cell_type": "code",
      "source": [
        "math.tan(math.radians(45)) # También se puede usar la función radians, para convertir de grados sexagesimales a radianes."
      ],
      "metadata": {
        "colab": {
          "base_uri": "https://localhost:8080/"
        },
        "id": "AH_KbR28ke95",
        "outputId": "8ff53e25-f635-4ba5-c11a-421fd318ca4e"
      },
      "execution_count": 30,
      "outputs": [
        {
          "output_type": "execute_result",
          "data": {
            "text/plain": [
              "0.9999999999999999"
            ]
          },
          "metadata": {},
          "execution_count": 30
        }
      ]
    },
    {
      "cell_type": "code",
      "source": [
        "math.acos(0.7071067811865476)  # Arroja el resultado en radianes, por lo que se tendrá que convertir a estos en sexagesimales."
      ],
      "metadata": {
        "colab": {
          "base_uri": "https://localhost:8080/"
        },
        "id": "vXBNcZoAk3Sy",
        "outputId": "25f3e80c-6c1e-4f25-bff5-58683b25f9f7"
      },
      "execution_count": 31,
      "outputs": [
        {
          "output_type": "execute_result",
          "data": {
            "text/plain": [
              "0.7853981633974483"
            ]
          },
          "metadata": {},
          "execution_count": 31
        }
      ]
    },
    {
      "cell_type": "code",
      "source": [
        "math.degrees(math.acos(0.7071067811865476))   # En efecto, el resultado es de 45° sexagesimales."
      ],
      "metadata": {
        "colab": {
          "base_uri": "https://localhost:8080/"
        },
        "id": "T-2y7wtJl2nS",
        "outputId": "ad3ba912-2665-4899-f43f-f3cd16899bce"
      },
      "execution_count": 32,
      "outputs": [
        {
          "output_type": "execute_result",
          "data": {
            "text/plain": [
              "45.0"
            ]
          },
          "metadata": {},
          "execution_count": 32
        }
      ]
    },
    {
      "cell_type": "code",
      "source": [
        "math.degrees(math.atan(1))  # El arco tangente de 1 es 45° sexagesimales."
      ],
      "metadata": {
        "colab": {
          "base_uri": "https://localhost:8080/"
        },
        "id": "CLwd9v1lmKDy",
        "outputId": "5929deb7-5101-4205-acf0-3ac6a2e9e5df"
      },
      "execution_count": 39,
      "outputs": [
        {
          "output_type": "execute_result",
          "data": {
            "text/plain": [
              "45.0"
            ]
          },
          "metadata": {},
          "execution_count": 39
        }
      ]
    },
    {
      "cell_type": "code",
      "source": [
        "math.e    # El número de euler."
      ],
      "metadata": {
        "colab": {
          "base_uri": "https://localhost:8080/"
        },
        "id": "s3PAEu2xmZDz",
        "outputId": "e838c41a-f292-48fb-82f9-2c311c0e3d85"
      },
      "execution_count": 40,
      "outputs": [
        {
          "output_type": "execute_result",
          "data": {
            "text/plain": [
              "2.718281828459045"
            ]
          },
          "metadata": {},
          "execution_count": 40
        }
      ]
    },
    {
      "cell_type": "markdown",
      "source": [
        "## CREACIÓN DE FUNCIONES"
      ],
      "metadata": {
        "id": "MooOgVq6nD0j"
      }
    },
    {
      "cell_type": "markdown",
      "source": [
        "Las funciones en python tienen la siguiente sintaxis.\n",
        "\n",
        "`def NOMBRE( LISTA DE PARAMETROS ):`  \n",
        "  `  SENTENCIAS`\n",
        "\n",
        "Asimismo, tiene que llevar si o si la identación. Que por lo general tienen que ser 2 espacios.\n",
        "\n",
        "A continuación, se realiza algunos pequeños ejemplos de creación de funciones."
      ],
      "metadata": {
        "id": "RRxRuYd1nIXC"
      }
    },
    {
      "cell_type": "code",
      "source": [
        "def primera_funcion(x):\n",
        "  print(x)"
      ],
      "metadata": {
        "id": "qJ1bLSD0ouwD"
      },
      "execution_count": 41,
      "outputs": []
    },
    {
      "cell_type": "markdown",
      "source": [
        "Se crea una función que imprimer el argumento que se le asigne. Se evalúa a continuación."
      ],
      "metadata": {
        "id": "jHNDiNCxpIKD"
      }
    },
    {
      "cell_type": "code",
      "source": [
        "primera_funcion(34)"
      ],
      "metadata": {
        "colab": {
          "base_uri": "https://localhost:8080/"
        },
        "id": "p6L3ZU-SpQvk",
        "outputId": "69e932c1-d4b2-4c4f-85ab-44b0dc445137"
      },
      "execution_count": 42,
      "outputs": [
        {
          "output_type": "stream",
          "name": "stdout",
          "text": [
            "34\n"
          ]
        }
      ]
    },
    {
      "cell_type": "markdown",
      "source": [
        "Y en efecto ha impreso el atgumento que se le ha asignado. Ahora dándole un argumento del tipo cadena."
      ],
      "metadata": {
        "id": "cCFGZKcfpVbM"
      }
    },
    {
      "cell_type": "code",
      "source": [
        "primera_funcion(\"Un gusto saludarte\")"
      ],
      "metadata": {
        "colab": {
          "base_uri": "https://localhost:8080/"
        },
        "id": "1ITm26h2pgGb",
        "outputId": "9a1743aa-5cec-4ec7-c3c7-31c3cb06de74"
      },
      "execution_count": 43,
      "outputs": [
        {
          "output_type": "stream",
          "name": "stdout",
          "text": [
            "Un gusto saludarte\n"
          ]
        }
      ]
    },
    {
      "cell_type": "markdown",
      "source": [
        "Ahora se creará una función con más de un argumento."
      ],
      "metadata": {
        "id": "7N2nOgrrwT2s"
      }
    },
    {
      "cell_type": "code",
      "source": [
        "def segunda_funcion(x,y):\n",
        "  return x+y"
      ],
      "metadata": {
        "id": "lJ1CPj3SwZbE"
      },
      "execution_count": 49,
      "outputs": []
    },
    {
      "cell_type": "markdown",
      "source": [
        "La función calcula la suma de los 2 argumentos. Cuando se desea que el resultado se muestre es necesario colocar la expresión `return`"
      ],
      "metadata": {
        "id": "gWGUwFpKwfR8"
      }
    },
    {
      "cell_type": "code",
      "source": [
        "segunda_funcion(3,2)"
      ],
      "metadata": {
        "colab": {
          "base_uri": "https://localhost:8080/"
        },
        "id": "tgic2aBvwlsU",
        "outputId": "3c094c29-ee69-4763-8a15-9a165bfffa01"
      },
      "execution_count": 50,
      "outputs": [
        {
          "output_type": "execute_result",
          "data": {
            "text/plain": [
              "5"
            ]
          },
          "metadata": {},
          "execution_count": 50
        }
      ]
    },
    {
      "cell_type": "markdown",
      "source": [
        "Ahora se creará una función sin argumentos."
      ],
      "metadata": {
        "id": "m-W7cprWxiyE"
      }
    },
    {
      "cell_type": "code",
      "source": [
        "def sin_argumentos():\n",
        "  print()"
      ],
      "metadata": {
        "id": "4Egh0Faexnf0"
      },
      "execution_count": 55,
      "outputs": []
    },
    {
      "cell_type": "markdown",
      "source": [
        "Se evalúa la función. Y como es evidente, no se usará argumentos."
      ],
      "metadata": {
        "id": "3wtDapfRxtak"
      }
    },
    {
      "cell_type": "code",
      "source": [
        "sin_argumentos()"
      ],
      "metadata": {
        "colab": {
          "base_uri": "https://localhost:8080/"
        },
        "id": "f99HwAKSx2YE",
        "outputId": "cc289841-7331-47da-d39e-bc9b5c556b15"
      },
      "execution_count": 56,
      "outputs": [
        {
          "output_type": "stream",
          "name": "stdout",
          "text": [
            "\n"
          ]
        }
      ]
    },
    {
      "cell_type": "markdown",
      "source": [
        "Aquí uno podría decir que la función no ha ejecutado ninguna sentencia, pero no es así, por no tener argumentos, no implica que no tenga realizar sentencias, en el ejemplo, se ejecutó la sentencia `print()`, pero como este no tiene ningún argumento, entonces no ejecutó nada. Aquí una modificación de la función, sin argumentos, para que quede más claro."
      ],
      "metadata": {
        "id": "GHNlT1UC0cem"
      }
    },
    {
      "cell_type": "code",
      "source": [
        "def sin_argumentos2():\n",
        "  print(\"¿Me vez?\")"
      ],
      "metadata": {
        "id": "J3Md-JsH1w71"
      },
      "execution_count": 57,
      "outputs": []
    },
    {
      "cell_type": "markdown",
      "source": [
        "Ejecutando la función."
      ],
      "metadata": {
        "id": "bHGFo10m13gW"
      }
    },
    {
      "cell_type": "code",
      "source": [
        "sin_argumentos2()"
      ],
      "metadata": {
        "colab": {
          "base_uri": "https://localhost:8080/"
        },
        "id": "7XMh2glX17cu",
        "outputId": "cb0680df-c302-47ae-bda8-eadf492567db"
      },
      "execution_count": 58,
      "outputs": [
        {
          "output_type": "stream",
          "name": "stdout",
          "text": [
            "¿Me vez?\n"
          ]
        }
      ]
    },
    {
      "cell_type": "markdown",
      "source": [
        "Se puede ver que se imprime la palabra `¿Me vez?`, por más que no se le haya asignado argumentos a la función."
      ],
      "metadata": {
        "id": "jBuODzZa2Aa2"
      }
    },
    {
      "cell_type": "markdown",
      "source": [
        "## FUNCIÓN EN FUNCIÓN"
      ],
      "metadata": {
        "id": "SeKcIkV72U6t"
      }
    },
    {
      "cell_type": "markdown",
      "source": [
        "Ahora se creará una función que use como sentencias a otras funciones."
      ],
      "metadata": {
        "id": "bKgbYwkD2YyU"
      }
    },
    {
      "cell_type": "code",
      "source": [
        "def funcion_en_funcion(x):\n",
        "  print(sin_argumentos2(), x)"
      ],
      "metadata": {
        "id": "IuKTEjho2sVf"
      },
      "execution_count": 67,
      "outputs": []
    },
    {
      "cell_type": "code",
      "source": [
        "funcion_en_funcion(\"¿Seguro?\")"
      ],
      "metadata": {
        "colab": {
          "base_uri": "https://localhost:8080/"
        },
        "id": "v2P__MHp28eH",
        "outputId": "6c39e1d2-01f4-4b60-de5e-299fada823ce"
      },
      "execution_count": 68,
      "outputs": [
        {
          "output_type": "stream",
          "name": "stdout",
          "text": [
            "¿Me vez?\n",
            "None ¿Seguro?\n"
          ]
        }
      ]
    },
    {
      "cell_type": "markdown",
      "source": [
        "Aquí un ejemplo más para que quede más claro, este punto."
      ],
      "metadata": {
        "id": "RWnSPqtu4hpu"
      }
    },
    {
      "cell_type": "code",
      "source": [
        "def sumador_total(t):\n",
        "  return segunda_funcion(4,5) + t"
      ],
      "metadata": {
        "id": "WUbFOHdS4mMf"
      },
      "execution_count": 69,
      "outputs": []
    },
    {
      "cell_type": "code",
      "source": [
        "sumador_total(4)"
      ],
      "metadata": {
        "colab": {
          "base_uri": "https://localhost:8080/"
        },
        "id": "GdJrMYyE4zNY",
        "outputId": "dd7a3f0f-546c-45e5-c6e7-7f95d14057de"
      },
      "execution_count": 70,
      "outputs": [
        {
          "output_type": "execute_result",
          "data": {
            "text/plain": [
              "13"
            ]
          },
          "metadata": {},
          "execution_count": 70
        }
      ]
    },
    {
      "cell_type": "markdown",
      "source": [
        "Como la función `segunda_función()` lo que hace es sumar los 2 argumentos que necesita, en este caso 4 y 5, da un total de 9. Ahora a ese resultado se le suma el valor del argumento `t` (4). Lo que da un total de  13."
      ],
      "metadata": {
        "id": "7bUEfzS85Ho6"
      }
    },
    {
      "cell_type": "markdown",
      "source": [
        "## Localidad de argumentos y parámetros dentro de funciones."
      ],
      "metadata": {
        "id": "0IR6ED4L7H9w"
      }
    },
    {
      "cell_type": "markdown",
      "source": [],
      "metadata": {
        "id": "kT5elCdw9MlQ"
      }
    }
  ]
}